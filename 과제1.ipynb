{
 "cells": [
  {
   "cell_type": "code",
   "execution_count": 11,
   "id": "turned-provision",
   "metadata": {},
   "outputs": [],
   "source": [
    "import numpy as np\n",
    "import pandas as pd\n",
    "from pandas import DataFrame"
   ]
  },
  {
   "cell_type": "code",
   "execution_count": 12,
   "id": "premier-single",
   "metadata": {},
   "outputs": [],
   "source": [
    "pd.set_option('display.max_row', 100)"
   ]
  },
  {
   "cell_type": "code",
   "execution_count": 13,
   "id": "driven-maximum",
   "metadata": {},
   "outputs": [],
   "source": [
    "def data_append(input: list): # input: [x, w, y, e]\n",
    "    i = 0\n",
    "    for key in data.keys():\n",
    "        data[key].append(input[i])\n",
    "        i += 1"
   ]
  },
  {
   "cell_type": "markdown",
   "id": "jewish-genesis",
   "metadata": {},
   "source": [
    "## Gradient Descent 구현"
   ]
  },
  {
   "cell_type": "code",
   "execution_count": 14,
   "id": "radical-darkness",
   "metadata": {},
   "outputs": [],
   "source": [
    "y_target = 5\n",
    "b = np.random.uniform(-1, 1)"
   ]
  },
  {
   "cell_type": "code",
   "execution_count": 15,
   "id": "strategic-premiere",
   "metadata": {},
   "outputs": [],
   "source": [
    "learning_rates = (0.1, 0.2)"
   ]
  },
  {
   "cell_type": "code",
   "execution_count": 16,
   "id": "brief-phenomenon",
   "metadata": {},
   "outputs": [
    {
     "name": "stdout",
     "output_type": "stream",
     "text": [
      "------------------------------------\n",
      "learning_rate 0.1 일 경우\n",
      "------------------------------------\n",
      "    x         w         y         e\n",
      "0   1  2.000000  2.641305  2.781722\n",
      "1   1  2.235870  3.113044  1.780302\n",
      "2   1  2.424565  3.490435  1.139393\n",
      "3   1  2.575522  3.792348  0.729212\n",
      "4   1  2.696287  4.033878  0.466696\n",
      "5   1  2.792899  4.227103  0.298685\n",
      "6   1  2.870189  4.381682  0.191158\n",
      "7   1  2.932021  4.505346  0.122341\n",
      "8   1  2.981486  4.604277  0.078299\n",
      "9   1  3.021058  4.683421  0.050111\n",
      "10  1  3.052716  4.746737  0.032071\n",
      "11  1  3.078042  4.797390  0.020525\n",
      "12  1  3.098304  4.837912  0.013136\n",
      "13  1  3.114512  4.870329  0.008407\n",
      "14  1  3.127479  4.896263  0.005381\n",
      "15  1  3.137853  4.917011  0.003444\n",
      "16  1  3.146152  4.933609  0.002204\n",
      "17  1  3.152791  4.946887  0.001411\n",
      "------------------------------------\n",
      "learning_rate 0.2 일 경우\n",
      "------------------------------------\n",
      "   x         w         y         e\n",
      "0  1  2.000000  3.799407  0.720712\n",
      "1  1  2.240119  4.279644  0.259456\n",
      "2  1  2.384190  4.567787  0.093404\n",
      "3  1  2.470632  4.740672  0.033626\n",
      "4  1  2.522498  4.844403  0.012105\n",
      "5  1  2.553617  4.906642  0.004358\n",
      "6  1  2.572289  4.943985  0.001569\n"
     ]
    }
   ],
   "source": [
    "for learning_rate in learning_rates:\n",
    "    x, w = 1, 2\n",
    "    data = {\n",
    "        'x': [],\n",
    "        'w': [],\n",
    "        'y': [],\n",
    "        'e': []\n",
    "    }\n",
    "    print(\"---\" * 12)\n",
    "    print(\"learning_rate {} 일 경우\".format(learning_rate))\n",
    "    print(\"---\" * 12)\n",
    "    for epoch in range(100):\n",
    "        y_pred = w * x + b\n",
    "\n",
    "        error = (y_pred - y_target)**2 / 2\n",
    "        if error < 0.001:\n",
    "            break\n",
    "\n",
    "        # 출력을 위한 데이터 입력\n",
    "        data_append([x, w, y_pred, error])\n",
    "\n",
    "        # gradient descent 계산\n",
    "        w_grad = learning_rate * (y_pred - y_target) * x\n",
    "        b_grad = learning_rate * (y_pred - y_target)\n",
    "\n",
    "        # w 업데이트\n",
    "        w = w - w_grad\n",
    "        b = b - b_grad\n",
    "    # 출력\n",
    "    frame = DataFrame(data)\n",
    "    print(frame)"
   ]
  },
  {
   "cell_type": "code",
   "execution_count": null,
   "id": "oriented-small",
   "metadata": {},
   "outputs": [],
   "source": []
  }
 ],
 "metadata": {
  "kernelspec": {
   "display_name": "Python 3",
   "language": "python",
   "name": "python3"
  },
  "language_info": {
   "codemirror_mode": {
    "name": "ipython",
    "version": 3
   },
   "file_extension": ".py",
   "mimetype": "text/x-python",
   "name": "python",
   "nbconvert_exporter": "python",
   "pygments_lexer": "ipython3",
   "version": "3.9.2"
  }
 },
 "nbformat": 4,
 "nbformat_minor": 5
}
