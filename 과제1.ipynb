{
 "cells": [
  {
   "cell_type": "code",
   "execution_count": 4,
   "id": "turned-provision",
   "metadata": {},
   "outputs": [],
   "source": [
    "import numpy as np\n",
    "import pandas as pd\n",
    "from pandas import DataFrame"
   ]
  },
  {
   "cell_type": "code",
   "execution_count": 5,
   "id": "premier-single",
   "metadata": {},
   "outputs": [],
   "source": [
    "pd.set_option('display.max_row', 100)"
   ]
  },
  {
   "cell_type": "code",
   "execution_count": 6,
   "id": "driven-maximum",
   "metadata": {},
   "outputs": [],
   "source": [
    "def data_append(input: list): # input: [x, w, y, e]\n",
    "    i = 0\n",
    "    for key in data.keys():\n",
    "        data[key].append(input[i])\n",
    "        i += 1"
   ]
  },
  {
   "cell_type": "markdown",
   "id": "jewish-genesis",
   "metadata": {},
   "source": [
    "## Gradient Descent 구현"
   ]
  },
  {
   "cell_type": "code",
   "execution_count": 7,
   "id": "radical-darkness",
   "metadata": {},
   "outputs": [],
   "source": [
    "y_target = 5\n",
    "b = np.random.uniform(-1, 1)"
   ]
  },
  {
   "cell_type": "code",
   "execution_count": 8,
   "id": "strategic-premiere",
   "metadata": {},
   "outputs": [],
   "source": [
    "learning_rates = (0.1, 0.2)"
   ]
  },
  {
   "cell_type": "code",
   "execution_count": 10,
   "id": "brief-phenomenon",
   "metadata": {},
   "outputs": [
    {
     "name": "stdout",
     "output_type": "stream",
     "text": [
      "------------------------------------\n",
      "learning_rate 0.1 일 경우\n",
      "------------------------------------\n",
      "    x         w         y         e\n",
      "0   1  2.000000  2.422616  3.321455\n",
      "1   1  2.257738  2.938092  2.125731\n",
      "2   1  2.463929  3.350474  1.360468\n",
      "3   1  2.628882  3.680379  0.870700\n",
      "4   1  2.760844  3.944303  0.557248\n",
      "5   1  2.866414  4.155443  0.356639\n",
      "6   1  2.950869  4.324354  0.228249\n",
      "7   1  3.018434  4.459483  0.146079\n",
      "8   1  3.072486  4.567587  0.093491\n",
      "9   1  3.115727  4.654069  0.059834\n",
      "10  1  3.150320  4.723255  0.038294\n",
      "11  1  3.177994  4.778604  0.024508\n",
      "12  1  3.200134  4.822883  0.015685\n",
      "13  1  3.217846  4.858307  0.010038\n",
      "14  1  3.232015  4.886645  0.006425\n",
      "15  1  3.243350  4.909316  0.004112\n",
      "16  1  3.252419  4.927453  0.002632\n",
      "17  1  3.259673  4.941962  0.001684\n",
      "18  1  3.265477  4.953570  0.001078\n",
      "------------------------------------\n",
      "learning_rate 0.2 일 경우\n",
      "------------------------------------\n",
      "   x         w         y         e\n",
      "0  1  2.000000  3.692736  0.854470\n",
      "1  1  2.261453  4.215641  0.307609\n",
      "2  1  2.418325  4.529385  0.110739\n",
      "3  1  2.512448  4.717631  0.039866\n",
      "4  1  2.568921  4.830579  0.014352\n",
      "5  1  2.602806  4.898347  0.005167\n",
      "6  1  2.623136  4.939008  0.001860\n"
     ]
    }
   ],
   "source": [
    "for learning_rate in learning_rates:\n",
    "    x, w = 1, 2\n",
    "    data = {\n",
    "        'x': [],\n",
    "        'w': [],\n",
    "        'y': [],\n",
    "        'e': []\n",
    "    }\n",
    "    print(\"---\" * 12)\n",
    "    print(\"learning_rate {} 일 경우\".format(learning_rate))\n",
    "    print(\"---\" * 12)\n",
    "    for epoch in range(100):\n",
    "        y_pred = w * x + b\n",
    "\n",
    "        error = (y_pred - y_target)**2 / 2\n",
    "        if error < 0.001:\n",
    "            break\n",
    "\n",
    "        # 출력을 위한 데이터 입력\n",
    "        data_append([x, w, y_pred, error])\n",
    "\n",
    "        # gradient descent 계산\n",
    "        w_grad = learning_rate * (y_pred - y_target) * x\n",
    "        b_grad = learning_rate * (y_pred - y_target)\n",
    "\n",
    "        # w 업데이트\n",
    "        w = w - w_grad\n",
    "        b = b - b_grad\n",
    "    # 출력\n",
    "    frame = DataFrame(data)\n",
    "    print(frame)"
   ]
  },
  {
   "cell_type": "code",
   "execution_count": null,
   "id": "furnished-entity",
   "metadata": {},
   "outputs": [],
   "source": []
  }
 ],
 "metadata": {
  "kernelspec": {
   "display_name": "Python 3",
   "language": "python",
   "name": "python3"
  },
  "language_info": {
   "codemirror_mode": {
    "name": "ipython",
    "version": 3
   },
   "file_extension": ".py",
   "mimetype": "text/x-python",
   "name": "python",
   "nbconvert_exporter": "python",
   "pygments_lexer": "ipython3",
   "version": "3.9.2"
  }
 },
 "nbformat": 4,
 "nbformat_minor": 5
}
