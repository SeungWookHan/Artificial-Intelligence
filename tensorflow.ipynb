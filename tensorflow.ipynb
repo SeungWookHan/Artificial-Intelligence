{
 "cells": [
  {
   "cell_type": "code",
   "execution_count": 2,
   "id": "common-project",
   "metadata": {},
   "outputs": [],
   "source": [
    "from tensorflow import keras"
   ]
  },
  {
   "cell_type": "code",
   "execution_count": 14,
   "id": "intelligent-lexington",
   "metadata": {},
   "outputs": [],
   "source": [
    "import numpy as np\n",
    "import matplotlib.pyplot as plt"
   ]
  },
  {
   "cell_type": "code",
   "execution_count": 15,
   "id": "bbb00d98",
   "metadata": {},
   "outputs": [],
   "source": [
    "mnist = keras.datasets.mnist"
   ]
  },
  {
   "cell_type": "code",
   "execution_count": 16,
   "id": "61de0f24",
   "metadata": {},
   "outputs": [],
   "source": [
    "(train_images, train_labels), (test_images, test_labels) = mnist.load_data()"
   ]
  },
  {
   "cell_type": "code",
   "execution_count": 18,
   "id": "78fc8af0",
   "metadata": {
    "scrolled": false
   },
   "outputs": [
    {
     "data": {
      "text/plain": [
       "Text(1, 1, 'Label : 7')"
      ]
     },
     "execution_count": 18,
     "metadata": {},
     "output_type": "execute_result"
    },
    {
     "data": {
      "image/png": "[encoded data removed]",
      "text/plain": [
       "<Figure size 216x216 with 1 Axes>"
      ]
     },
     "metadata": {
      "needs_background": "light"
     },
     "output_type": "display_data"
    },
    {
     "data": {
      "image/png": "[encoded data removed]",
      "text/plain": [
       "<Figure size 216x216 with 1 Axes>"
      ]
     },
     "metadata": {
      "needs_background": "light"
     },
     "output_type": "display_data"
    }
   ],
   "source": [
    "plt.rcParams['toolbar'] = 'None'\n",
    "fg1 = plt.figure(1, figsize=(3, 3))\n",
    "# fg1.canvas.window().statusBar().setVisible(False)\n",
    "ax1 = fg1.add_axes([0, 0, 1, 1])\n",
    "ax1.imshow(train_images[0], cmap='gray', aspect='auto')\n",
    "ax1.axis('off')\n",
    "ax1.text(1, 1, \"Label : {}\".format(train_labels[0]), fontsize=10, color='white')\n",
    "\n",
    "fg2 = plt.figure(2, figsize=(3, 3)) \n",
    "# fg2.canvas.window().statusBar().setVisible(False)\n",
    "ax2 = fg2.add_axes([0, 0, 1, 1])\n",
    "ax2.imshow(test_images[0], cmap='gray', aspect='auto')\n",
    "ax2.axis('off')\n",
    "ax2.text(1, 1, \"Label : {}\".format(test_labels[0]), fontsize=10, color='white')"
   ]
  },
  {
   "cell_type": "code",
   "execution_count": 24,
   "id": "076fb962",
   "metadata": {},
   "outputs": [],
   "source": [
    "# normalize\n",
    "train_input = train_images \n",
    "test_input = test_images"
   ]
  },
  {
   "cell_type": "code",
   "execution_count": 19,
   "id": "5c387abb",
   "metadata": {},
   "outputs": [],
   "source": [
    "train_target = keras.utils.to_categorical(train_labels)\n",
    "test_target = keras.utils.to_categorical(test_labels)"
   ]
  },
  {
   "cell_type": "code",
   "execution_count": 21,
   "id": "049f1d22",
   "metadata": {},
   "outputs": [
    {
     "name": "stdout",
     "output_type": "stream",
     "text": [
      "Model: \"MNIST_Classifer\"\n",
      "_________________________________________________________________\n",
      "Layer (type)                 Output Shape              Param #   \n",
      "=================================================================\n",
      "Input (Flatten)              (None, 784)               0         \n",
      "_________________________________________________________________\n",
      "Hidden_1 (Dense)             (None, 128)               100480    \n",
      "_________________________________________________________________\n",
      "Hidden_2 (Dense)             (None, 128)               16512     \n",
      "_________________________________________________________________\n",
      "Hidden_3 (Dense)             (None, 128)               16512     \n",
      "_________________________________________________________________\n",
      "Output (Dense)               (None, 10)                1290      \n",
      "=================================================================\n",
      "Total params: 134,794\n",
      "Trainable params: 134,794\n",
      "Non-trainable params: 0\n",
      "_________________________________________________________________\n"
     ]
    }
   ],
   "source": [
    "model = keras.Sequential(\n",
    "    layers=[\n",
    "keras.layers.Flatten(input_shape=(28, 28), name='Input'), keras.layers.Dense(128, activation='sigmoid', name='Hidden_1'), keras.layers.Dense(128, activation='sigmoid', name='Hidden_2'), keras.layers.Dense(128, activation='sigmoid', name='Hidden_3'), keras.layers.Dense(10, activation='sigmoid', name='Output')\n",
    "],\n",
    "    name=\"MNIST_Classifer\"\n",
    ")\n",
    "model.summary()"
   ]
  },
  {
   "cell_type": "code",
   "execution_count": 22,
   "id": "585a02ef",
   "metadata": {},
   "outputs": [],
   "source": [
    "model.compile(optimizer=keras.optimizers.SGD(lr=0.2),\n",
    "              loss='mean_squared_error',\n",
    "              metrics=['accuracy'])"
   ]
  },
  {
   "cell_type": "code",
   "execution_count": 25,
   "id": "2d307422",
   "metadata": {},
   "outputs": [
    {
     "name": "stdout",
     "output_type": "stream",
     "text": [
      "Epoch 1/20\n",
      "1875/1875 - 1s - loss: 0.0900 - accuracy: 0.1737\n",
      "Epoch 2/20\n",
      "1875/1875 - 1s - loss: 0.0837 - accuracy: 0.3309\n",
      "Epoch 3/20\n",
      "1875/1875 - 1s - loss: 0.0707 - accuracy: 0.4960\n",
      "Epoch 4/20\n",
      "1875/1875 - 1s - loss: 0.0534 - accuracy: 0.6662\n",
      "Epoch 5/20\n",
      "1875/1875 - 1s - loss: 0.0414 - accuracy: 0.7897\n",
      "Epoch 6/20\n",
      "1875/1875 - 1s - loss: 0.0331 - accuracy: 0.8539\n",
      "Epoch 7/20\n",
      "1875/1875 - 1s - loss: 0.0266 - accuracy: 0.8805\n",
      "Epoch 8/20\n",
      "1875/1875 - 1s - loss: 0.0220 - accuracy: 0.8957\n",
      "Epoch 9/20\n",
      "1875/1875 - 1s - loss: 0.0189 - accuracy: 0.9041\n",
      "Epoch 10/20\n",
      "1875/1875 - 1s - loss: 0.0171 - accuracy: 0.9101\n",
      "Epoch 11/20\n",
      "1875/1875 - 1s - loss: 0.0156 - accuracy: 0.9175\n",
      "Epoch 12/20\n",
      "1875/1875 - 1s - loss: 0.0146 - accuracy: 0.9205\n",
      "Epoch 13/20\n",
      "1875/1875 - 1s - loss: 0.0137 - accuracy: 0.9246\n",
      "Epoch 14/20\n",
      "1875/1875 - 1s - loss: 0.0130 - accuracy: 0.9279\n",
      "Epoch 15/20\n",
      "1875/1875 - 1s - loss: 0.0127 - accuracy: 0.9301\n",
      "Epoch 16/20\n",
      "1875/1875 - 1s - loss: 0.0123 - accuracy: 0.9324\n",
      "Epoch 17/20\n",
      "1875/1875 - 1s - loss: 0.0118 - accuracy: 0.9348\n",
      "Epoch 18/20\n",
      "1875/1875 - 1s - loss: 0.0114 - accuracy: 0.9373\n",
      "Epoch 19/20\n",
      "1875/1875 - 1s - loss: 0.0110 - accuracy: 0.9385\n",
      "Epoch 20/20\n",
      "1875/1875 - 1s - loss: 0.0107 - accuracy: 0.9402\n"
     ]
    },
    {
     "data": {
      "text/plain": [
       "<tensorflow.python.keras.callbacks.History at 0x177c7a5e0>"
      ]
     },
     "execution_count": 25,
     "metadata": {},
     "output_type": "execute_result"
    }
   ],
   "source": [
    "model.fit(train_input, train_target, epochs=20, verbose=2)"
   ]
  },
  {
   "cell_type": "code",
   "execution_count": 27,
   "id": "6c2fdedc",
   "metadata": {},
   "outputs": [
    {
     "name": "stdout",
     "output_type": "stream",
     "text": [
      "313/313 - 0s - loss: 0.0110 - accuracy: 0.9360\n",
      "\n",
      "Test accuracy: 0.9359999895095825\n"
     ]
    }
   ],
   "source": [
    "test_loss, test_acc = model.evaluate(test_input, test_target, verbose=2) \n",
    "print('\\nTest accuracy:', test_acc)\n",
    "predictions = model.predict(test_input)"
   ]
  },
  {
   "cell_type": "code",
   "execution_count": 28,
   "id": "3d631f95",
   "metadata": {},
   "outputs": [
    {
     "data": {
      "text/plain": [
       "(-0.5, 27.5, 27.5, -0.5)"
      ]
     },
     "execution_count": 28,
     "metadata": {},
     "output_type": "execute_result"
    },
    {
     "data": {
      "image/png": "[encoded data removed]",
      "text/plain": [
       "<Figure size 216x216 with 1 Axes>"
      ]
     },
     "metadata": {
      "needs_background": "light"
     },
     "output_type": "display_data"
    }
   ],
   "source": [
    "sample_idx = 4415\n",
    "\n",
    "test_sample = test_input[sample_idx].reshape([1, 28, 28])\n",
    "test_sample_label = test_labels[sample_idx]\n",
    "\n",
    "fg3 = plt.figure(3, figsize=(3, 3))\n",
    "ax3 = fg3.add_axes([0, 0, 1, 1])\n",
    "ax3.cla()\n",
    "ax3.imshow(test_input[sample_idx], cmap='gray', aspect='auto')\n",
    "ax3.axis('off')\n"
   ]
  },
  {
   "cell_type": "code",
   "execution_count": 31,
   "id": "70b3ead0",
   "metadata": {},
   "outputs": [],
   "source": [
    "sample_pred = model.predict(test_sample)\n",
    "sample_result = np.argmax(sample_pred)"
   ]
  },
  {
   "cell_type": "code",
   "execution_count": 32,
   "id": "ca6218b5",
   "metadata": {},
   "outputs": [
    {
     "data": {
      "text/plain": [
       "Text(0.5, 5.5, 'Prediction : 2')"
      ]
     },
     "execution_count": 32,
     "metadata": {},
     "output_type": "execute_result"
    }
   ],
   "source": [
    "ax3.text(0.5, 2.5, \"Label : {}\".format(test_sample_label), fontsize=20, color='white')\n",
    "ax3.text(0.5, 5.5, \"Prediction : {}\".format(sample_result), fontsize=20, color='red')"
   ]
  },
  {
   "cell_type": "code",
   "execution_count": null,
   "id": "3fbfbfc7",
   "metadata": {},
   "outputs": [],
   "source": []
  }
 ],
 "metadata": {
  "kernelspec": {
   "display_name": "Python 3",
   "language": "python",
   "name": "python3"
  },
  "language_info": {
   "codemirror_mode": {
    "name": "ipython",
    "version": 3
   },
   "file_extension": ".py",
   "mimetype": "text/x-python",
   "name": "python",
   "nbconvert_exporter": "python",
   "pygments_lexer": "ipython3",
   "version": "3.8.6"
  }
 },
 "nbformat": 4,
 "nbformat_minor": 5
}
